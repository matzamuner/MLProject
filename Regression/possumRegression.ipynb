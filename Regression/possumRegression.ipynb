{
 "cells": [
  {
   "cell_type": "markdown",
   "metadata": {},
   "source": [
    "Este dataset chamado \"possum(gambá)\" contém nove medidas morfométricas para 104 gambás da montanha. Esses gambás foram capturados em sete locais diferentes, do sul de Victoria ao centro de Queensland. Nele iremos utilizar de Regressao Linear, Regressao Logistica e Random Forest para tentar predizer qual o tamanho da cabeca de um determinado gambá."
   ]
  },
  {
   "cell_type": "markdown",
   "metadata": {},
   "source": [
    "Existem 14 variáveis ​​​​no conjunto de dados:\n",
    "* Caso (número do gambá, ID exclusivo)\n",
    "* Local da gravação\n",
    "* Área populacional\n",
    "* Sexo\n",
    "* Idade\n",
    "* Comprimento da cabeça\n",
    "* Largura do crânio\n",
    "* Comprimento total\n",
    "* Comprimento da cauda\n",
    "* Comprimento do pé\n",
    "* Comprimento da concha da orelha\n",
    "* Tamanho dos olhos\n",
    "* Peito\n",
    "* Barriga"
   ]
  }
 ],
 "metadata": {
  "language_info": {
   "name": "python"
  }
 },
 "nbformat": 4,
 "nbformat_minor": 2
}
